{
 "cells": [
  {
   "cell_type": "code",
   "execution_count": 1,
   "id": "changing-projection",
   "metadata": {},
   "outputs": [],
   "source": [
    "import numpy as np\n",
    "import re\n",
    "import excel_function_errors.basic_operation_errors as basic\n",
    "import excel_function_errors.math_function_errors as math\n",
    "import excel_function_errors.function_evaluators as evaluator"
   ]
  },
  {
   "cell_type": "code",
   "execution_count": 2,
   "id": "destroyed-frontier",
   "metadata": {},
   "outputs": [],
   "source": [
    "A1 = 5\n",
    "A2 = 8\n",
    "A3 = 7\n",
    "\n",
    "B1 = 3\n",
    "B2 = 4\n",
    "B3 = 2\n",
    "\n",
    "A1_ERROR = 2\n",
    "A2_ERROR = 3\n",
    "A3_ERROR = 4\n",
    "\n",
    "B1_ERROR = 1\n",
    "B2_ERROR = 4\n",
    "B3_ERROR = 1\n",
    "\n",
    "\n",
    "value_error_dict = {\n",
    "    \"A1\": A1_ERROR,\n",
    "    \"A2\": A2_ERROR,\n",
    "    \"A3\": A3_ERROR, \n",
    "    \"B1\": B1_ERROR,\n",
    "    \"B2\": B2_ERROR,\n",
    "    \"B3\": B3_ERROR\n",
    "}\n",
    "\n",
    "value_value_dict = {\n",
    "    \"A1\": A1,\n",
    "    \"A2\": A2,\n",
    "    \"A3\": A3, \n",
    "    \"B1\": B1,\n",
    "    \"B2\": B2,\n",
    "    \"B3\": B3\n",
    "}"
   ]
  },
  {
   "cell_type": "code",
   "execution_count": 3,
   "id": "thorough-xerox",
   "metadata": {},
   "outputs": [],
   "source": [
    "test1 = \"A1 ^ A2 + A3 * B1 / B2 ^ B3\"\n",
    "expression = test1\n",
    "expression_stripped = re.sub(r\"\\s\", \"\", expression)\n",
    "expression_vars = re.split(r\"\\+|\\-|\\*|\\/|\\^\", expression_stripped)\n",
    "expression_operators = re.findall(r\"\\+|\\-|\\*|\\/|\\^\", expression_stripped)"
   ]
  },
  {
   "cell_type": "code",
   "execution_count": 4,
   "id": "handled-block",
   "metadata": {},
   "outputs": [],
   "source": [
    "def expression_parser(variables, operators):\n",
    "    \"\"\"\n",
    "    Takes expression without parentheses and returns value\n",
    "    \n",
    "    Args:\n",
    "    variables: list of variables of size n\n",
    "    operators: list of operators of size n - 1\n",
    "    \n",
    "    Returns:\n",
    "    final_value: result of expresion\n",
    "    final_error: error of expression\n",
    "    \"\"\"\n",
    "    \n",
    "    expression_vars_func = variables.copy()\n",
    "    expression_operators_func = operators.copy()\n",
    "    \n",
    "    # Order of operations\n",
    "    PEMDAS = \"^/*-+\"\n",
    "    \n",
    "    # For each operator type\n",
    "    for operator_type in PEMDAS:\n",
    "        \n",
    "        # While that operator type is still in the list\n",
    "        while (operator_type in expression_operators_func):\n",
    "            \n",
    "            # Take index of operator\n",
    "            i = expression_operators_func.index(operator_type)\n",
    "\n",
    "            # Find out if a,b are numbers, variables, or excel expressions\n",
    "            a_variable = expression_vars_func[i]\n",
    "            b_variable = expression_vars_func[i+1]\n",
    "            \n",
    "            a_type = variable_type_evaluator(a_variable)\n",
    "            b_type = variable_type_evaluator(b_variable)\n",
    "\n",
    "            # Check to see if variable has already been computed. \n",
    "            # If not, check to see if numeric, variable, or exel expression\n",
    "            if a_variable in value_error_dict:\n",
    "                a = value_value_dict[a_variable]\n",
    "                a_error = value_error_dict[a_variable]   \n",
    "            elif a_type == \"numeric\":\n",
    "                a = float(a_variable)\n",
    "                a_error = 0\n",
    "            elif a_type == \"variable\":\n",
    "                a = value_value_dict[a_variable]\n",
    "                a_error = value_error_dict[a_variable]\n",
    "            elif a_type == \"excel_expression\":\n",
    "                a, a_error = evaluator.excel_expression_evaluator(a_variable)\n",
    "            \n",
    "            \n",
    "            if b_variable in value_error_dict:\n",
    "                b = value_value_dict[b_variable]\n",
    "                b_error = value_error_dict[b_variable] \n",
    "            elif b_type == \"numeric\":\n",
    "                b = float(b_variable)\n",
    "                b_error = 0\n",
    "            elif b_type == \"variable\":\n",
    "                b = value_value_dict[b_variable]\n",
    "                b_error = value_error_dict[b_variable]\n",
    "            elif b_type == \"excel_expression\":\n",
    "                b, b_error = evaluator.excel_expression_evaluator(b_variable)\n",
    "\n",
    "            \n",
    "            print(a_type, b_type)\n",
    "            # Combine the names of the variables\n",
    "            new_var_name = a_variable + operator_type + b_variable\n",
    "            \n",
    "            # Evaluate the value of the operation\n",
    "            value_value_dict[new_var_name] = evaluator.value_evaluator(a,b,operator_type)\n",
    "            \n",
    "            # Evaluate the error of the operation\n",
    "            value_error_dict[new_var_name] = evaluator.error_evaluator(a,b,a_error, b_error, operator_type)\n",
    "\n",
    "            # Delete the operation from the list\n",
    "            del expression_operators_func[i]\n",
    "            del expression_vars_func[i]\n",
    "            \n",
    "            # Save the value and the list\n",
    "            expression_vars_func[i] = new_var_name\n",
    "    \n",
    "    final_value = value_value_dict[new_var_name]\n",
    "    final_error = value_error_dict[new_var_name]\n",
    "    return final_value, final_error"
   ]
  },
  {
   "cell_type": "code",
   "execution_count": 5,
   "id": "verified-publicity",
   "metadata": {},
   "outputs": [],
   "source": [
    "def variable_type_evaluator(var):\n",
    "    \"\"\"\n",
    "    Returns if a variable is numeric, a variable, or an excel expression\n",
    "    \n",
    "    Args:\n",
    "    var: String that is a number, a variable, or an expression expression\n",
    "    \n",
    "    Returns:\n",
    "    \"numeric\", \"variable\", \"excel_expression\"\n",
    "    \n",
    "    \"\"\"\n",
    "    if var.isnumeric(): return \"numeric\"\n",
    "    elif \"(\" not in var: return \"variable\"\n",
    "    else: return \"excel_expression\""
   ]
  },
  {
   "cell_type": "code",
   "execution_count": 9,
   "id": "ultimate-necklace",
   "metadata": {},
   "outputs": [
    {
     "name": "stdout",
     "output_type": "stream",
     "text": [
      "excel_expression excel_expression\n"
     ]
    },
    {
     "data": {
      "text/plain": [
       "(24, 74.3042156277264)"
      ]
     },
     "execution_count": 9,
     "metadata": {},
     "output_type": "execute_result"
    }
   ],
   "source": [
    "simple_test = \"SUM(A1:A5) + SINH(1,3) \"\n",
    "expression = simple_test\n",
    "expression_stripped = re.sub(r\"\\s\", \"\", expression)\n",
    "expression_vars = re.split(r\"\\+|\\-|\\*|\\/|\\^\", expression_stripped)\n",
    "expression_operators = re.findall(r\"\\+|\\-|\\*|\\/|\\^\", expression_stripped)\n",
    "expression_parser(expression_vars, expression_operators)"
   ]
  },
  {
   "cell_type": "code",
   "execution_count": null,
   "id": "mechanical-hello",
   "metadata": {},
   "outputs": [],
   "source": []
  },
  {
   "cell_type": "code",
   "execution_count": null,
   "id": "expired-shade",
   "metadata": {},
   "outputs": [],
   "source": []
  },
  {
   "cell_type": "code",
   "execution_count": null,
   "id": "furnished-spouse",
   "metadata": {},
   "outputs": [],
   "source": []
  },
  {
   "cell_type": "code",
   "execution_count": null,
   "id": "informal-madonna",
   "metadata": {},
   "outputs": [],
   "source": []
  },
  {
   "cell_type": "code",
   "execution_count": null,
   "id": "infinite-walter",
   "metadata": {},
   "outputs": [],
   "source": []
  },
  {
   "cell_type": "code",
   "execution_count": null,
   "id": "bored-sailing",
   "metadata": {},
   "outputs": [],
   "source": []
  },
  {
   "cell_type": "code",
   "execution_count": 45,
   "id": "copyrighted-laugh",
   "metadata": {},
   "outputs": [],
   "source": [
    "def expression_evaluator(expression): \n",
    "    from itertools import islice\n",
    "    \n",
    "    # If no parentheses in the expression, evaluate.\n",
    "    if \"(\" not in expression:\n",
    "        expression_vars = re.split(r\"\\+|\\-|\\*|\\/|\\^\", expression)\n",
    "        expression_operators = re.findall(r\"\\+|\\-|\\*|\\/|\\^\", expression)\n",
    "        return expression_vars, expression_operators\n",
    "    \n",
    "    stack = []\n",
    "    expression_vars = []\n",
    "    expression_operators = []\n",
    "    \n",
    "    # Iterate through every character of the expression\n",
    "    expression_iter = iter(range(len(expression)))\n",
    "    for i in expression_iter:\n",
    "        # Add \"(\" to the stack\n",
    "        if expression[i] == \"(\":\n",
    "            stack.append(i)\n",
    "        \n",
    "        # Pop \")\" from the stack\n",
    "        if expression[i] == \")\":\n",
    "            beginning = stack.pop()\n",
    "            \n",
    "            # If the stack is empty, then that is an expression that can be evaluated\n",
    "            if len(stack) == 0:\n",
    "                expression_vars.append(expression[beginning+1:i])\n",
    "        \n",
    "        # If stack is empty, find rest of expression until \"(\" to evaluate\n",
    "        elif len(stack) == 0:\n",
    "            beginning = i\n",
    "            expression_remaining = expression[i:]\n",
    "            \n",
    "            # If no parentheses left in the expression, calculate\n",
    "            if \"(\" not in expression_remaining:\n",
    "                expression_vars.extend(re.split(r\"\\+|\\-|\\*|\\/|\\^\", expression_remaining)[1:])\n",
    "                expression_operators.extend(re.findall(r\"\\+|\\-|\\*|\\/|\\^\", expression_remaining))\n",
    "                break\n",
    "                \n",
    "            # If there is a parenthesis in the expression\n",
    "            else:\n",
    "                end = expression_remaining.index(\"(\")\n",
    "                expression_without_parenthesis = expression[i:i+end]\n",
    "                expression_vars.extend(re.split(r\"\\+|\\-|\\*|\\/|\\^\", expression_without_parenthesis))\n",
    "                expression_operators.extend(re.findall(r\"\\+|\\-|\\*|\\/|\\^\", expression_without_parenthesis))\n",
    "                if end == 1:\n",
    "                    pass\n",
    "                if end > 1:\n",
    "                    next(islice(expression_iter,end-1,end), None)\n",
    "                \n",
    "    expression_vars = list(filter(lambda x: x != \"\", expression_vars))\n",
    "    expression_operators = list(filter(lambda x: x != \"\", expression_operators))\n",
    "\n",
    "    return expression_vars,expression_operators"
   ]
  },
  {
   "cell_type": "code",
   "execution_count": null,
   "id": "hairy-injection",
   "metadata": {},
   "outputs": [],
   "source": []
  },
  {
   "cell_type": "code",
   "execution_count": null,
   "id": "square-study",
   "metadata": {},
   "outputs": [],
   "source": []
  },
  {
   "cell_type": "code",
   "execution_count": null,
   "id": "institutional-gothic",
   "metadata": {},
   "outputs": [],
   "source": []
  },
  {
   "cell_type": "code",
   "execution_count": null,
   "id": "exciting-editing",
   "metadata": {},
   "outputs": [],
   "source": []
  },
  {
   "cell_type": "code",
   "execution_count": null,
   "id": "robust-accident",
   "metadata": {},
   "outputs": [],
   "source": []
  },
  {
   "cell_type": "code",
   "execution_count": 22,
   "id": "presidential-seller",
   "metadata": {},
   "outputs": [
    {
     "data": {
      "text/plain": [
       "'((((A1^A2)+SUM(A1:B2)+(A3*B1))/B2)^B3)'"
      ]
     },
     "execution_count": 22,
     "metadata": {},
     "output_type": "execute_result"
    }
   ],
   "source": [
    "test2 = \"((([A1 ^ A2] + SUM(A1:B2) + (A3 * B1)) / B2) ^ B3)\"\n",
    "test2 = re.sub(r\"\\s\", \"\", test2)\n",
    "temp = re.sub(r\"\\{|\\[\", \"(\", test2)\n",
    "test2 = re.sub(r\"\\]|\\}\", \")\", temp)\n",
    "test2"
   ]
  },
  {
   "cell_type": "code",
   "execution_count": 23,
   "id": "gorgeous-baseline",
   "metadata": {},
   "outputs": [
    {
     "name": "stdout",
     "output_type": "stream",
     "text": [
      "A1^A2\n",
      "A1:B2\n",
      "A3*B1\n",
      "(A1^A2)+SUM(A1:B2)+(A3*B1)\n",
      "((A1^A2)+SUM(A1:B2)+(A3*B1))/B2\n",
      "(((A1^A2)+SUM(A1:B2)+(A3*B1))/B2)^B3\n"
     ]
    }
   ],
   "source": [
    "stack = []\n",
    "for index, character in enumerate(test2):\n",
    "    if character == \"(\":\n",
    "        stack.append(index)\n",
    "    if character == \")\":\n",
    "        expression_beginning = stack.pop()\n",
    "        mini_expression = test2[expression_beginning+1:index]  \n",
    "        print(mini_expression)\n",
    "        #value_value_dict[mini_expression],value_error_dict[mini_expression] =  \\\n",
    "        #expression_parser(*expression_evaluator(mini_expression))\n",
    "\n",
    "#value_value_dict[test2[1:-1]], value_error_dict[test2[1:-1]], "
   ]
  },
  {
   "cell_type": "code",
   "execution_count": 31,
   "id": "thrown-reason",
   "metadata": {},
   "outputs": [
    {
     "data": {
      "text/plain": [
       "9537768582.25"
      ]
     },
     "execution_count": 31,
     "metadata": {},
     "output_type": "execute_result"
    }
   ],
   "source": [
    "import parser\n",
    "eval(\"((((A1 ** A2) + (A3 * B1)) / B2) ** B3)\")"
   ]
  },
  {
   "cell_type": "markdown",
   "id": "radical-productivity",
   "metadata": {},
   "source": [
    "# Next Steps"
   ]
  },
  {
   "cell_type": "markdown",
   "id": "durable-active",
   "metadata": {},
   "source": [
    "1. Check to make sure code works with difficult examples\n",
    "2. Streamline pipeline\n",
    "3. Program in edge case =A1\n",
    "4. Program in variable + constants in expressions\n",
    "5. Program in variable + constants + excel functionsin expressions"
   ]
  },
  {
   "cell_type": "code",
   "execution_count": null,
   "id": "infinite-christian",
   "metadata": {},
   "outputs": [],
   "source": [
    "types_of_inputs = [\"(a, a_error)\", \"(a, b, a_error, b_error)\", \"(values, errors)\",\n",
    "                   \"(other)\", \"(a_error, base)\", \"()\"]"
   ]
  },
  {
   "cell_type": "code",
   "execution_count": null,
   "id": "addressed-japanese",
   "metadata": {},
   "outputs": [],
   "source": []
  },
  {
   "cell_type": "code",
   "execution_count": null,
   "id": "first-announcement",
   "metadata": {},
   "outputs": [],
   "source": []
  }
 ],
 "metadata": {
  "kernelspec": {
   "display_name": "Python 3",
   "language": "python",
   "name": "python3"
  },
  "language_info": {
   "codemirror_mode": {
    "name": "ipython",
    "version": 3
   },
   "file_extension": ".py",
   "mimetype": "text/x-python",
   "name": "python",
   "nbconvert_exporter": "python",
   "pygments_lexer": "ipython3",
   "version": "3.8.5"
  }
 },
 "nbformat": 4,
 "nbformat_minor": 5
}

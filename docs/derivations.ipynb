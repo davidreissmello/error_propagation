{
 "cells": [
  {
   "cell_type": "code",
   "execution_count": 1,
   "id": "immune-chemistry",
   "metadata": {},
   "outputs": [],
   "source": [
    "import numpy as np \n",
    "import math \n",
    "from sympy import *"
   ]
  },
  {
   "cell_type": "raw",
   "id": "complicated-bradford",
   "metadata": {},
   "source": [
    "General formula for computing error: \n",
    "error^2 = sum of [(partial derivative of f in respect to var)^2*(error of var)^2 for each var]"
   ]
  },
  {
   "cell_type": "markdown",
   "id": "virtual-virus",
   "metadata": {},
   "source": [
    "# Derivation of error for basic operators"
   ]
  },
  {
   "cell_type": "code",
   "execution_count": 2,
   "id": "personal-oxide",
   "metadata": {},
   "outputs": [],
   "source": [
    "a,b, a_error, b_error = symbols ('a b a_error b_error')"
   ]
  },
  {
   "cell_type": "code",
   "execution_count": 47,
   "id": "applicable-rolling",
   "metadata": {},
   "outputs": [
    {
     "name": "stdout",
     "output_type": "stream",
     "text": [
      "sum\n"
     ]
    },
    {
     "data": {
      "text/latex": [
       "$\\displaystyle \\sqrt{a_{error}^{2} + b_{error}^{2}}$"
      ],
      "text/plain": [
       "sqrt(a_error**2 + b_error**2)"
      ]
     },
     "execution_count": 47,
     "metadata": {},
     "output_type": "execute_result"
    }
   ],
   "source": [
    "print(\"sum\")\n",
    "expr_sum = a+b\n",
    "error_sum = sqrt(diff(expr_sum, a)**2 * a_error**2 + diff(expr_sum, b)**2 * b_error**2)\n",
    "error_sum"
   ]
  },
  {
   "cell_type": "code",
   "execution_count": 56,
   "id": "retained-communist",
   "metadata": {},
   "outputs": [
    {
     "name": "stdout",
     "output_type": "stream",
     "text": [
      "subtraction\n"
     ]
    },
    {
     "data": {
      "text/latex": [
       "$\\displaystyle \\sqrt{a_{error}^{2} + b_{error}^{2}}$"
      ],
      "text/plain": [
       "sqrt(a_error**2 + b_error**2)"
      ]
     },
     "execution_count": 56,
     "metadata": {},
     "output_type": "execute_result"
    }
   ],
   "source": [
    "print(\"subtraction\")\n",
    "expr_subtraction = a-b\n",
    "error_subtraction = sqrt(diff(expr_subtraction, a)**2 * a_error**2 + diff(expr_subtraction, b)**2 * b_error**2)\n",
    "error_subtraction"
   ]
  },
  {
   "cell_type": "code",
   "execution_count": 58,
   "id": "solved-instruction",
   "metadata": {},
   "outputs": [
    {
     "name": "stdout",
     "output_type": "stream",
     "text": [
      "multiplication\n"
     ]
    },
    {
     "data": {
      "text/latex": [
       "$\\displaystyle \\sqrt{a^{2} b_{error}^{2} + a_{error}^{2} b^{2}}$"
      ],
      "text/plain": [
       "sqrt(a**2*b_error**2 + a_error**2*b**2)"
      ]
     },
     "execution_count": 58,
     "metadata": {},
     "output_type": "execute_result"
    }
   ],
   "source": [
    "print(\"multiplication\")\n",
    "expr_multiplication = a*b\n",
    "error_multiplication = sqrt(diff(expr_multiplication, a)**2 * a_error**2 + diff(expr_multiplication, b)**2 * b_error**2)\n",
    "error_multiplication"
   ]
  },
  {
   "cell_type": "code",
   "execution_count": 60,
   "id": "english-inspiration",
   "metadata": {},
   "outputs": [
    {
     "name": "stdout",
     "output_type": "stream",
     "text": [
      "division\n"
     ]
    },
    {
     "data": {
      "text/latex": [
       "$\\displaystyle \\sqrt{\\frac{a^{2} b_{error}^{2}}{b^{4}} + \\frac{a_{error}^{2}}{b^{2}}}$"
      ],
      "text/plain": [
       "sqrt(a**2*b_error**2/b**4 + a_error**2/b**2)"
      ]
     },
     "execution_count": 60,
     "metadata": {},
     "output_type": "execute_result"
    }
   ],
   "source": [
    "print(\"division\")\n",
    "expr_division = a/b\n",
    "error_division = sqrt(diff(expr_division, a)**2 * a_error**2 + diff(expr_division, b)**2 * b_error**2)\n",
    "error_division"
   ]
  },
  {
   "cell_type": "code",
   "execution_count": 62,
   "id": "academic-photography",
   "metadata": {},
   "outputs": [
    {
     "name": "stdout",
     "output_type": "stream",
     "text": [
      "power\n"
     ]
    },
    {
     "data": {
      "text/latex": [
       "$\\displaystyle \\sqrt{a^{2 b} b_{error}^{2} \\log{\\left(a \\right)}^{2} + \\frac{a^{2 b} a_{error}^{2} b^{2}}{a^{2}}}$"
      ],
      "text/plain": [
       "sqrt(a**(2*b)*b_error**2*log(a)**2 + a**(2*b)*a_error**2*b**2/a**2)"
      ]
     },
     "execution_count": 62,
     "metadata": {},
     "output_type": "execute_result"
    }
   ],
   "source": [
    "print(\"power\")\n",
    "expr_power = a**b\n",
    "error_power = sqrt(diff(expr_power, a)**2 * a_error**2 + diff(expr_power, b)**2 * b_error**2)\n",
    "error_power"
   ]
  },
  {
   "cell_type": "code",
   "execution_count": 64,
   "id": "phantom-dealer",
   "metadata": {},
   "outputs": [
    {
     "name": "stdout",
     "output_type": "stream",
     "text": [
      "log\n"
     ]
    },
    {
     "data": {
      "text/latex": [
       "$\\displaystyle \\sqrt{\\frac{b_{error}^{2} \\log{\\left(a \\right)}^{2}}{b^{2} \\log{\\left(b \\right)}^{4}} + \\frac{a_{error}^{2}}{a^{2} \\log{\\left(b \\right)}^{2}}}$"
      ],
      "text/plain": [
       "sqrt(b_error**2*log(a)**2/(b**2*log(b)**4) + a_error**2/(a**2*log(b)**2))"
      ]
     },
     "execution_count": 64,
     "metadata": {},
     "output_type": "execute_result"
    }
   ],
   "source": [
    "print(\"log\")\n",
    "expr_log = log(a,b)\n",
    "error_log = sqrt(diff(expr_log, a)**2 * a_error**2 + diff(expr_log, b)**2 * b_error**2)\n",
    "error_log"
   ]
  },
  {
   "cell_type": "code",
   "execution_count": 75,
   "id": "later-terry",
   "metadata": {},
   "outputs": [
    {
     "name": "stdout",
     "output_type": "stream",
     "text": [
      "sin\n"
     ]
    },
    {
     "data": {
      "text/latex": [
       "$\\displaystyle \\sqrt{a_{error}^{2} \\cos^{2}{\\left(a \\right)}}$"
      ],
      "text/plain": [
       "sqrt(a_error**2*cos(a)**2)"
      ]
     },
     "execution_count": 75,
     "metadata": {},
     "output_type": "execute_result"
    }
   ],
   "source": [
    "print(\"sin\")\n",
    "expr_sin = sin(a)\n",
    "error_sin = sqrt(diff(expr_sin, a)**2 * a_error**2)\n",
    "error_sin"
   ]
  },
  {
   "cell_type": "code",
   "execution_count": 76,
   "id": "connected-specific",
   "metadata": {},
   "outputs": [
    {
     "name": "stdout",
     "output_type": "stream",
     "text": [
      "cos\n"
     ]
    },
    {
     "data": {
      "text/latex": [
       "$\\displaystyle \\sqrt{a_{error}^{2} \\sin^{2}{\\left(a \\right)}}$"
      ],
      "text/plain": [
       "sqrt(a_error**2*sin(a)**2)"
      ]
     },
     "execution_count": 76,
     "metadata": {},
     "output_type": "execute_result"
    }
   ],
   "source": [
    "print(\"cos\")\n",
    "expr_cos = cos(a)\n",
    "error_cos = sqrt(diff(expr_cos, a)**2 * a_error**2)\n",
    "error_cos"
   ]
  },
  {
   "cell_type": "code",
   "execution_count": 77,
   "id": "advised-funeral",
   "metadata": {},
   "outputs": [
    {
     "name": "stdout",
     "output_type": "stream",
     "text": [
      "tan\n"
     ]
    },
    {
     "data": {
      "text/latex": [
       "$\\displaystyle \\sqrt{a_{error}^{2} \\left(\\tan^{2}{\\left(a \\right)} + 1\\right)^{2}}$"
      ],
      "text/plain": [
       "sqrt(a_error**2*(tan(a)**2 + 1)**2)"
      ]
     },
     "execution_count": 77,
     "metadata": {},
     "output_type": "execute_result"
    }
   ],
   "source": [
    "print(\"tan\")\n",
    "expr_tan = tan(a)\n",
    "error_tan = sqrt(diff(expr_tan, a)**2 * a_error**2)\n",
    "error_tan"
   ]
  },
  {
   "cell_type": "markdown",
   "id": "devoted-delight",
   "metadata": {},
   "source": [
    "# Derivation of more complex formulas"
   ]
  },
  {
   "cell_type": "code",
   "execution_count": 4,
   "id": "accompanied-sleep",
   "metadata": {},
   "outputs": [
    {
     "name": "stdout",
     "output_type": "stream",
     "text": [
      "acos\n"
     ]
    },
    {
     "data": {
      "text/latex": [
       "$\\displaystyle \\sqrt{\\frac{a_{error}^{2}}{1 - a^{2}}}$"
      ],
      "text/plain": [
       "sqrt(a_error**2/(1 - a**2))"
      ]
     },
     "execution_count": 4,
     "metadata": {},
     "output_type": "execute_result"
    }
   ],
   "source": [
    "print(\"acos\")\n",
    "exp = acos(a)\n",
    "error = sqrt(diff(exp, a)**2 * a_error**2)\n",
    "error"
   ]
  },
  {
   "cell_type": "code",
   "execution_count": 5,
   "id": "integrated-marker",
   "metadata": {},
   "outputs": [
    {
     "name": "stdout",
     "output_type": "stream",
     "text": [
      "acosh\n"
     ]
    },
    {
     "data": {
      "text/latex": [
       "$\\displaystyle \\sqrt{\\frac{a_{error}^{2}}{a^{2} - 1}}$"
      ],
      "text/plain": [
       "sqrt(a_error**2/(a**2 - 1))"
      ]
     },
     "execution_count": 5,
     "metadata": {},
     "output_type": "execute_result"
    }
   ],
   "source": [
    "print(\"acosh\")\n",
    "exp = acosh(a)\n",
    "error = sqrt(diff(exp, a)**2 * a_error**2)\n",
    "error"
   ]
  },
  {
   "cell_type": "code",
   "execution_count": 6,
   "id": "expired-vegetation",
   "metadata": {},
   "outputs": [
    {
     "name": "stdout",
     "output_type": "stream",
     "text": [
      "acot\n"
     ]
    },
    {
     "data": {
      "text/latex": [
       "$\\displaystyle \\sqrt{\\frac{a_{error}^{2}}{\\left(a^{2} + 1\\right)^{2}}}$"
      ],
      "text/plain": [
       "sqrt(a_error**2/(a**2 + 1)**2)"
      ]
     },
     "execution_count": 6,
     "metadata": {},
     "output_type": "execute_result"
    }
   ],
   "source": [
    "print(\"acot\")\n",
    "exp = acot(a)\n",
    "error = sqrt(diff(exp, a)**2 * a_error**2)\n",
    "error"
   ]
  },
  {
   "cell_type": "code",
   "execution_count": 9,
   "id": "coastal-bermuda",
   "metadata": {},
   "outputs": [
    {
     "name": "stdout",
     "output_type": "stream",
     "text": [
      "acoth\n"
     ]
    },
    {
     "data": {
      "text/latex": [
       "$\\displaystyle \\sqrt{\\frac{a_{error}^{2}}{\\left(1 - a^{2}\\right)^{2}}}$"
      ],
      "text/plain": [
       "sqrt(a_error**2/(1 - a**2)**2)"
      ]
     },
     "execution_count": 9,
     "metadata": {},
     "output_type": "execute_result"
    }
   ],
   "source": [
    "print(\"acoth\")\n",
    "exp = acoth(a)\n",
    "error = sqrt(diff(exp, a)**2 * a_error**2)\n",
    "error"
   ]
  },
  {
   "cell_type": "code",
   "execution_count": 8,
   "id": "stretch-quick",
   "metadata": {},
   "outputs": [
    {
     "name": "stdout",
     "output_type": "stream",
     "text": [
      "asin\n"
     ]
    },
    {
     "data": {
      "text/latex": [
       "$\\displaystyle \\sqrt{\\frac{a_{error}^{2}}{1 - a^{2}}}$"
      ],
      "text/plain": [
       "sqrt(a_error**2/(1 - a**2))"
      ]
     },
     "execution_count": 8,
     "metadata": {},
     "output_type": "execute_result"
    }
   ],
   "source": [
    "print(\"asin\")\n",
    "exp = asin(a)\n",
    "error = sqrt(diff(exp, a)**2 * a_error**2)\n",
    "error"
   ]
  },
  {
   "cell_type": "code",
   "execution_count": 10,
   "id": "hearing-solution",
   "metadata": {},
   "outputs": [
    {
     "name": "stdout",
     "output_type": "stream",
     "text": [
      "asin\n"
     ]
    },
    {
     "data": {
      "text/latex": [
       "$\\displaystyle \\sqrt{\\frac{a_{error}^{2}}{a^{2} + 1}}$"
      ],
      "text/plain": [
       "sqrt(a_error**2/(a**2 + 1))"
      ]
     },
     "execution_count": 10,
     "metadata": {},
     "output_type": "execute_result"
    }
   ],
   "source": [
    "print(\"asin\")\n",
    "exp = asinh(a)\n",
    "error = sqrt(diff(exp, a)**2 * a_error**2)\n",
    "error"
   ]
  },
  {
   "cell_type": "code",
   "execution_count": 11,
   "id": "demanding-miami",
   "metadata": {},
   "outputs": [
    {
     "name": "stdout",
     "output_type": "stream",
     "text": [
      "atan\n"
     ]
    },
    {
     "data": {
      "text/latex": [
       "$\\displaystyle \\sqrt{\\frac{a_{error}^{2}}{\\left(a^{2} + 1\\right)^{2}}}$"
      ],
      "text/plain": [
       "sqrt(a_error**2/(a**2 + 1)**2)"
      ]
     },
     "execution_count": 11,
     "metadata": {},
     "output_type": "execute_result"
    }
   ],
   "source": [
    "print(\"atan\")\n",
    "exp = atan(a)\n",
    "error = sqrt(diff(exp, a)**2 * a_error**2)\n",
    "error"
   ]
  },
  {
   "cell_type": "code",
   "execution_count": 12,
   "id": "second-captain",
   "metadata": {},
   "outputs": [
    {
     "name": "stdout",
     "output_type": "stream",
     "text": [
      "atanh\n"
     ]
    },
    {
     "data": {
      "text/latex": [
       "$\\displaystyle \\sqrt{\\frac{a_{error}^{2}}{\\left(1 - a^{2}\\right)^{2}}}$"
      ],
      "text/plain": [
       "sqrt(a_error**2/(1 - a**2)**2)"
      ]
     },
     "execution_count": 12,
     "metadata": {},
     "output_type": "execute_result"
    }
   ],
   "source": [
    "print(\"atanh\")\n",
    "exp = atanh(a)\n",
    "error = sqrt(diff(exp, a)**2 * a_error**2)\n",
    "error"
   ]
  },
  {
   "cell_type": "code",
   "execution_count": 13,
   "id": "focal-yugoslavia",
   "metadata": {},
   "outputs": [
    {
     "name": "stdout",
     "output_type": "stream",
     "text": [
      "cosh\n"
     ]
    },
    {
     "data": {
      "text/latex": [
       "$\\displaystyle \\sqrt{a_{error}^{2} \\sinh^{2}{\\left(a \\right)}}$"
      ],
      "text/plain": [
       "sqrt(a_error**2*sinh(a)**2)"
      ]
     },
     "execution_count": 13,
     "metadata": {},
     "output_type": "execute_result"
    }
   ],
   "source": [
    "print(\"cosh\")\n",
    "exp = cosh(a)\n",
    "error = sqrt(diff(exp, a)**2 * a_error**2)\n",
    "error"
   ]
  },
  {
   "cell_type": "code",
   "execution_count": 14,
   "id": "competitive-solomon",
   "metadata": {},
   "outputs": [
    {
     "name": "stdout",
     "output_type": "stream",
     "text": [
      "cot\n"
     ]
    },
    {
     "data": {
      "text/latex": [
       "$\\displaystyle \\sqrt{a_{error}^{2} \\left(- \\cot^{2}{\\left(a \\right)} - 1\\right)^{2}}$"
      ],
      "text/plain": [
       "sqrt(a_error**2*(-cot(a)**2 - 1)**2)"
      ]
     },
     "execution_count": 14,
     "metadata": {},
     "output_type": "execute_result"
    }
   ],
   "source": [
    "print(\"cot\")\n",
    "exp = cot(a)\n",
    "error = sqrt(diff(exp, a)**2 * a_error**2)\n",
    "error"
   ]
  },
  {
   "cell_type": "code",
   "execution_count": 15,
   "id": "choice-silver",
   "metadata": {},
   "outputs": [
    {
     "name": "stdout",
     "output_type": "stream",
     "text": [
      "coth\n"
     ]
    },
    {
     "data": {
      "text/latex": [
       "$\\displaystyle \\sqrt{\\frac{a_{error}^{2}}{\\sinh^{4}{\\left(a \\right)}}}$"
      ],
      "text/plain": [
       "sqrt(a_error**2/sinh(a)**4)"
      ]
     },
     "execution_count": 15,
     "metadata": {},
     "output_type": "execute_result"
    }
   ],
   "source": [
    "print(\"coth\")\n",
    "exp = coth(a)\n",
    "error = sqrt(diff(exp, a)**2 * a_error**2)\n",
    "error"
   ]
  },
  {
   "cell_type": "code",
   "execution_count": 17,
   "id": "global-island",
   "metadata": {},
   "outputs": [
    {
     "name": "stdout",
     "output_type": "stream",
     "text": [
      "csc\n"
     ]
    },
    {
     "data": {
      "text/latex": [
       "$\\displaystyle \\sqrt{a_{error}^{2} \\cot^{2}{\\left(a \\right)} \\csc^{2}{\\left(a \\right)}}$"
      ],
      "text/plain": [
       "sqrt(a_error**2*cot(a)**2*csc(a)**2)"
      ]
     },
     "execution_count": 17,
     "metadata": {},
     "output_type": "execute_result"
    }
   ],
   "source": [
    "print(\"csc\")\n",
    "exp = csc(a)\n",
    "error = sqrt(diff(exp, a)**2 * a_error**2)\n",
    "error"
   ]
  },
  {
   "cell_type": "code",
   "execution_count": 18,
   "id": "adult-stroke",
   "metadata": {},
   "outputs": [
    {
     "name": "stdout",
     "output_type": "stream",
     "text": [
      "csch\n"
     ]
    },
    {
     "data": {
      "text/latex": [
       "$\\displaystyle \\sqrt{a_{error}^{2} \\coth^{2}{\\left(a \\right)} \\operatorname{csch}^{2}{\\left(a \\right)}}$"
      ],
      "text/plain": [
       "sqrt(a_error**2*coth(a)**2*csch(a)**2)"
      ]
     },
     "execution_count": 18,
     "metadata": {},
     "output_type": "execute_result"
    }
   ],
   "source": [
    "print(\"csch\")\n",
    "exp = csch(a)\n",
    "error = sqrt(diff(exp, a)**2 * a_error**2)\n",
    "error"
   ]
  },
  {
   "cell_type": "code",
   "execution_count": 22,
   "id": "numerical-pleasure",
   "metadata": {},
   "outputs": [
    {
     "name": "stdout",
     "output_type": "stream",
     "text": [
      "factorial\n"
     ]
    },
    {
     "data": {
      "text/latex": [
       "$\\displaystyle \\sqrt{a_{error}^{2} \\Gamma^{2}\\left(a + 1\\right) \\operatorname{polygamma}^{2}{\\left(0,a + 1 \\right)}}$"
      ],
      "text/plain": [
       "sqrt(a_error**2*gamma(a + 1)**2*polygamma(0, a + 1)**2)"
      ]
     },
     "execution_count": 22,
     "metadata": {},
     "output_type": "execute_result"
    }
   ],
   "source": [
    "print(\"factorial\")\n",
    "exp = factorial(a)\n",
    "error = sqrt(diff(exp, a)**2 * a_error**2)\n",
    "error"
   ]
  },
  {
   "cell_type": "code",
   "execution_count": 27,
   "id": "recorded-lunch",
   "metadata": {},
   "outputs": [
    {
     "name": "stdout",
     "output_type": "stream",
     "text": [
      "sec\n"
     ]
    },
    {
     "data": {
      "text/latex": [
       "$\\displaystyle \\sqrt{a_{error}^{2} \\tan^{2}{\\left(a \\right)} \\sec^{2}{\\left(a \\right)}}$"
      ],
      "text/plain": [
       "sqrt(a_error**2*tan(a)**2*sec(a)**2)"
      ]
     },
     "execution_count": 27,
     "metadata": {},
     "output_type": "execute_result"
    }
   ],
   "source": [
    "print(\"sec\")\n",
    "exp = sec(a)\n",
    "error = sqrt(diff(exp, a)**2 * a_error**2)\n",
    "error"
   ]
  },
  {
   "cell_type": "code",
   "execution_count": 28,
   "id": "temporal-norman",
   "metadata": {},
   "outputs": [
    {
     "name": "stdout",
     "output_type": "stream",
     "text": [
      "sec\n"
     ]
    },
    {
     "data": {
      "text/latex": [
       "$\\displaystyle \\sqrt{a_{error}^{2} \\tanh^{2}{\\left(a \\right)} \\operatorname{sech}^{2}{\\left(a \\right)}}$"
      ],
      "text/plain": [
       "sqrt(a_error**2*tanh(a)**2*sech(a)**2)"
      ]
     },
     "execution_count": 28,
     "metadata": {},
     "output_type": "execute_result"
    }
   ],
   "source": [
    "print(\"sec\")\n",
    "exp = sech(a)\n",
    "error = sqrt(diff(exp, a)**2 * a_error**2)\n",
    "error"
   ]
  },
  {
   "cell_type": "code",
   "execution_count": 29,
   "id": "acknowledged-cheese",
   "metadata": {},
   "outputs": [
    {
     "name": "stdout",
     "output_type": "stream",
     "text": [
      "sinh\n"
     ]
    },
    {
     "data": {
      "text/latex": [
       "$\\displaystyle \\sqrt{a_{error}^{2} \\cosh^{2}{\\left(a \\right)}}$"
      ],
      "text/plain": [
       "sqrt(a_error**2*cosh(a)**2)"
      ]
     },
     "execution_count": 29,
     "metadata": {},
     "output_type": "execute_result"
    }
   ],
   "source": [
    "print(\"sinh\")\n",
    "exp = sinh(a)\n",
    "error = sqrt(diff(exp, a)**2 * a_error**2)\n",
    "error"
   ]
  },
  {
   "cell_type": "code",
   "execution_count": 32,
   "id": "adverse-franchise",
   "metadata": {},
   "outputs": [
    {
     "name": "stdout",
     "output_type": "stream",
     "text": [
      "tanh\n"
     ]
    },
    {
     "data": {
      "text/latex": [
       "$\\displaystyle \\sqrt{a_{error}^{2} \\left(1 - \\tanh^{2}{\\left(a \\right)}\\right)^{2}}$"
      ],
      "text/plain": [
       "sqrt(a_error**2*(1 - tanh(a)**2)**2)"
      ]
     },
     "execution_count": 32,
     "metadata": {},
     "output_type": "execute_result"
    }
   ],
   "source": [
    "print(\"tanh\")\n",
    "exp = tanh(a)\n",
    "error = sqrt(diff(exp, a)**2 * a_error**2)\n",
    "error"
   ]
  },
  {
   "cell_type": "code",
   "execution_count": null,
   "id": "guilty-contents",
   "metadata": {},
   "outputs": [],
   "source": []
  },
  {
   "cell_type": "code",
   "execution_count": null,
   "id": "tired-fruit",
   "metadata": {},
   "outputs": [],
   "source": []
  },
  {
   "cell_type": "markdown",
   "id": "electric-mention",
   "metadata": {},
   "source": [
    "# Creating functions"
   ]
  },
  {
   "cell_type": "code",
   "execution_count": 116,
   "id": "numeric-black",
   "metadata": {},
   "outputs": [],
   "source": [
    "def sum_error(a, b, a_error, b_error):\n",
    "    return np.sqrt(a_error**2 + b_error**2)\n",
    "\n",
    "def subtraction_error(a, b, a_error, b_error):\n",
    "    return sum_error(a, b, a_error, b_error)\n",
    "\n",
    "def multiplication_error(a, b, a_error, b_error):\n",
    "    return np.sqrt((a**2 * b_error**2) + (b**2 * a_error **2))\n",
    "\n",
    "def division_error(a, b, a_error, b_error):\n",
    "    return np.sqrt(((a**2 * b_error**2)/ (b**4)) + (a_error**2/b**2))\n",
    "\n",
    "def power_error(a, b, a_error, b_error):\n",
    "    return np.sqrt((a**(2*b) * b_error**2 * np.log(a)**2) + ((a**(2*b) * a_error**2 * b**2)/a**2))\n",
    "\n",
    "def log_error(a, b, a_error, b_error):\n",
    "    return np.sqrt((b_error**2 * np.log(a)**2)/(b**2 * np.log(b)**4) + a_error**2/(a**2 * np.log(b)**2))\n",
    "\n",
    "def sin_error(a, b, a_error, b_error):\n",
    "    return np.sqrt(a_error**2 * np.cos(a)**2)\n",
    "\n",
    "def cos_error(a, b, a_error, b_error):\n",
    "    return np.sqrt(a_error**2 * np.sin(a)**2)\n",
    "\n",
    "def tan_error(a, b, a_error, b_error):\n",
    "    return np.sqrt(a_error**2 * (np.tan(a)**2 + 1)**2)"
   ]
  },
  {
   "cell_type": "markdown",
   "id": "homeless-summit",
   "metadata": {},
   "source": [
    "# Testing of error formulas for basic operators"
   ]
  },
  {
   "cell_type": "code",
   "execution_count": 65,
   "id": "anonymous-bridges",
   "metadata": {},
   "outputs": [],
   "source": [
    "values = {a: 10, a_error:5, b:8, b_error:3}"
   ]
  },
  {
   "cell_type": "markdown",
   "id": "tracked-template",
   "metadata": {},
   "source": [
    "Derived errors"
   ]
  },
  {
   "cell_type": "code",
   "execution_count": 128,
   "id": "assumed-deputy",
   "metadata": {
    "scrolled": true
   },
   "outputs": [
    {
     "name": "stdout",
     "output_type": "stream",
     "text": [
      "sum = 5.83095189484530\n",
      "subtraction = 5.83095189484530\n",
      "multiplication = 50.0000000000000\n",
      "division = 0.781250000000000\n",
      "power = 798229810.232026\n",
      "log = 0.312556216389312\n",
      "sin = 4.19535764538226\n",
      "cos = 2.72010555444685\n",
      "tan = 7.10185881291716\n"
     ]
    }
   ],
   "source": [
    "print(\"sum =\", error_sum.evalf(subs=values))\n",
    "print(\"subtraction =\", error_subtraction.evalf(subs=values))\n",
    "print(\"multiplication =\", error_multiplication.evalf(subs=values))\n",
    "print(\"division =\", error_division.evalf(subs=values))\n",
    "print(\"power =\", error_power.evalf(subs=values))\n",
    "print(\"log =\", error_log.evalf(subs=values))\n",
    "print(\"sin =\", error_sin.evalf(subs=values))\n",
    "print(\"cos =\", error_cos.evalf(subs=values))\n",
    "print(\"tan =\", error_tan.evalf(subs=values))"
   ]
  },
  {
   "cell_type": "markdown",
   "id": "beginning-mauritius",
   "metadata": {},
   "source": [
    "Errors from functions"
   ]
  },
  {
   "cell_type": "code",
   "execution_count": 136,
   "id": "closing-thermal",
   "metadata": {},
   "outputs": [],
   "source": [
    "a = 10\n",
    "b = 8\n",
    "a_error = 5\n",
    "b_error = 3"
   ]
  },
  {
   "cell_type": "code",
   "execution_count": 137,
   "id": "passing-folder",
   "metadata": {},
   "outputs": [
    {
     "name": "stdout",
     "output_type": "stream",
     "text": [
      "sum = 5.830951894845301\n",
      "subtraction = 5.830951894845301\n",
      "multiplication = 50.0\n",
      "division = 0.78125\n",
      "power = 798229810.2320257\n",
      "log = 0.3125562163893125\n",
      "sin = 4.195357645382262\n",
      "cos = 2.7201055544468495\n",
      "tan = 7.101858812917159\n"
     ]
    }
   ],
   "source": [
    "print(\"sum =\", sum_error(a, b, a_error, b_error))\n",
    "print(\"subtraction =\", subtraction_error(a, b, a_error, b_error))\n",
    "print(\"multiplication =\", multiplication_error(a, b, a_error, b_error))\n",
    "print(\"division =\", division_error(a, b, a_error, b_error))\n",
    "print(\"power =\", power_error(a, b, a_error, b_error))\n",
    "print(\"log =\", log_error(a, b, a_error, b_error))\n",
    "print(\"sin =\", sin_error(a, b, a_error, b_error))\n",
    "print(\"cos =\", cos_error(a, b, a_error, b_error))\n",
    "print(\"tan =\", tan_error(a, b, a_error, b_error))"
   ]
  },
  {
   "cell_type": "code",
   "execution_count": null,
   "id": "affected-hours",
   "metadata": {},
   "outputs": [],
   "source": []
  }
 ],
 "metadata": {
  "kernelspec": {
   "display_name": "Python 3",
   "language": "python",
   "name": "python3"
  },
  "language_info": {
   "codemirror_mode": {
    "name": "ipython",
    "version": 3
   },
   "file_extension": ".py",
   "mimetype": "text/x-python",
   "name": "python",
   "nbconvert_exporter": "python",
   "pygments_lexer": "ipython3",
   "version": "3.8.5"
  }
 },
 "nbformat": 4,
 "nbformat_minor": 5
}
